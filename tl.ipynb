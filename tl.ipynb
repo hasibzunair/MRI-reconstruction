{
 "cells": [
  {
   "cell_type": "markdown",
   "metadata": {},
   "source": [
    "### Transfer learning\n",
    "https://github.com/hasibzunair/segmentation_models"
   ]
  },
  {
   "cell_type": "code",
   "execution_count": 1,
   "metadata": {},
   "outputs": [
    {
     "name": "stderr",
     "output_type": "stream",
     "text": [
      "Using TensorFlow backend.\n"
     ]
    },
    {
     "name": "stdout",
     "output_type": "stream",
     "text": [
      "Segmentation Models: using `keras` framework.\n"
     ]
    }
   ],
   "source": [
    "from segmentation_models import Unet"
   ]
  },
  {
   "cell_type": "code",
   "execution_count": 2,
   "metadata": {},
   "outputs": [],
   "source": [
    "#### TRAIN FROM SCRATCH\n",
    "\n",
    "# define number of channels\n",
    "#N = 1\n",
    "\n",
    "# define model\n",
    "#BACKBONE = 'resnet34'\n",
    "#model = Unet(backbone_name=BACKBONE, encoder_weights=None, input_shape=(320, 320, N))\n",
    "\n",
    "#model.summary()"
   ]
  },
  {
   "cell_type": "code",
   "execution_count": 3,
   "metadata": {},
   "outputs": [],
   "source": [
    "#### Train with pretrained weights\n",
    "\n",
    "from segmentation_models import Unet\n",
    "from keras.layers import Input, Conv2D\n",
    "from keras.models import Model\n"
   ]
  },
  {
   "cell_type": "code",
   "execution_count": 5,
   "metadata": {},
   "outputs": [
    {
     "name": "stdout",
     "output_type": "stream",
     "text": [
      "Model: \"model_4\"\n",
      "_________________________________________________________________\n",
      "Layer (type)                 Output Shape              Param #   \n",
      "=================================================================\n",
      "input_2 (InputLayer)         (None, 320, 320, 1)       0         \n",
      "_________________________________________________________________\n",
      "conv2d_2 (Conv2D)            (None, 320, 320, 3)       6         \n",
      "_________________________________________________________________\n",
      "model_4 (Model)              multiple                  24456154  \n",
      "=================================================================\n",
      "Total params: 24,456,160\n",
      "Trainable params: 24,438,810\n",
      "Non-trainable params: 17,350\n",
      "_________________________________________________________________\n",
      "None\n"
     ]
    }
   ],
   "source": [
    "# define number of channels\n",
    "N = 1\n",
    "\n",
    "# setup base pretrained model\n",
    "base_model = Unet(backbone_name='resnet34', encoder_weights='imagenet')\n",
    "\n",
    "inp = Input(shape=(320, 320, N))\n",
    "l1 = Conv2D(3, (1, 1))(inp) # map N channels data to 3 channels\n",
    "out = base_model(l1)\n",
    "\n",
    "model = Model(inp, out, name=base_model.name)\n",
    "print(model.summary())"
   ]
  },
  {
   "cell_type": "markdown",
   "metadata": {},
   "source": [
    "### Fine tuning"
   ]
  },
  {
   "cell_type": "code",
   "execution_count": 6,
   "metadata": {},
   "outputs": [],
   "source": [
    "#from segmentation_models import Unet\n",
    "#from segmentation_models.utils import set_trainable\n",
    "\n",
    "# freeze_encoder=True -->> backbone is frozen\n",
    "\n",
    "#model = Unet(backbone_name='resnet34', encoder_weights='imagenet', freeze_encoder=True)\n",
    "#model.compile('Adam', 'binary_crossentropy', ['binary_accuracy'])\n",
    "\n",
    "# pretrain model decoder\n",
    "#model.fit(x, y, epochs=2)\n",
    "\n",
    "# release all layers for training\n",
    "#set_trainable(model) # set all layers trainable and recompile model\n",
    "\n",
    "# continue training\n",
    "#model.fit(x, y, epochs=100)\n"
   ]
  },
  {
   "cell_type": "code",
   "execution_count": 7,
   "metadata": {},
   "outputs": [],
   "source": [
    "import segmentation_models as sm"
   ]
  },
  {
   "cell_type": "code",
   "execution_count": 9,
   "metadata": {},
   "outputs": [
    {
     "name": "stdout",
     "output_type": "stream",
     "text": [
      "Downloading data from https://github.com/qubvel/classification_models/releases/download/0.0.1/resnet18_imagenet_1000_no_top.h5\n",
      "44924928/44920640 [==============================] - 146s 3us/step\n",
      "Model: \"model_7\"\n",
      "_________________________________________________________________\n",
      "Layer (type)                 Output Shape              Param #   \n",
      "=================================================================\n",
      "input_5 (InputLayer)         (None, 320, 320, 1)       0         \n",
      "_________________________________________________________________\n",
      "conv2d_4 (Conv2D)            (None, 320, 320, 3)       6         \n",
      "_________________________________________________________________\n",
      "model_7 (Model)              multiple                  13838430  \n",
      "=================================================================\n",
      "Total params: 13,838,436\n",
      "Trainable params: 13,828,190\n",
      "Non-trainable params: 10,246\n",
      "_________________________________________________________________\n",
      "None\n"
     ]
    }
   ],
   "source": [
    "# define number of channels\n",
    "N = 1\n",
    "\n",
    "# setup base pretrained model\n",
    "base_model = sm.FPN(backbone_name='resnet18', encoder_weights='imagenet')\n",
    "\n",
    "inp = Input(shape=(320, 320, N))\n",
    "l1 = Conv2D(3, (1, 1))(inp) # map N channels data to 3 channels\n",
    "out = base_model(l1)\n",
    "\n",
    "model = Model(inp, out, name=base_model.name)\n",
    "print(model.summary())"
   ]
  },
  {
   "cell_type": "code",
   "execution_count": null,
   "metadata": {},
   "outputs": [],
   "source": []
  }
 ],
 "metadata": {
  "kernelspec": {
   "display_name": "Python 3",
   "language": "python",
   "name": "python3"
  },
  "language_info": {
   "codemirror_mode": {
    "name": "ipython",
    "version": 3
   },
   "file_extension": ".py",
   "mimetype": "text/x-python",
   "name": "python",
   "nbconvert_exporter": "python",
   "pygments_lexer": "ipython3",
   "version": "3.6.8"
  }
 },
 "nbformat": 4,
 "nbformat_minor": 4
}
