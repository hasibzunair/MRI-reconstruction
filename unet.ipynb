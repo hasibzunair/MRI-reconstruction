{
 "cells": [
  {
   "cell_type": "code",
   "execution_count": 1,
   "metadata": {
    "colab": {
     "base_uri": "https://localhost:8080/",
     "height": 34
    },
    "colab_type": "code",
    "id": "B-BkBbUTLgfQ",
    "outputId": "42ae9f2a-192e-4892-f9cd-a3fe8034c935"
   },
   "outputs": [
    {
     "name": "stderr",
     "output_type": "stream",
     "text": [
      "C:\\Users\\Aiman\\Anaconda3\\envs\\sticker\\lib\\site-packages\\dask\\config.py:168: YAMLLoadWarning: calling yaml.load() without Loader=... is deprecated, as the default Loader is unsafe. Please read https://msg.pyyaml.org/load for full details.\n",
      "  data = yaml.load(f.read()) or {}\n",
      "Using TensorFlow backend.\n"
     ]
    }
   ],
   "source": [
    "import numpy as np\n",
    "import pandas as pd\n",
    "\n",
    "import matplotlib.pyplot as plt\n",
    "\n",
    "from tqdm import tqdm\n",
    "from itertools import chain\n",
    "from skimage.io import imread, imshow, imread_collection, concatenate_images\n",
    "from skimage.transform import resize\n",
    "from skimage.morphology import label\n",
    "\n",
    "from keras.models import Model, load_model\n",
    "from keras.layers import Input\n",
    "from keras import optimizers\n",
    "from keras.layers.core import Dropout, Lambda\n",
    "from keras.layers.convolutional import Conv2D, Conv2DTranspose\n",
    "from keras.layers.pooling import MaxPooling2D\n",
    "from keras.layers.merge import concatenate\n",
    "from keras.callbacks import EarlyStopping, ModelCheckpoint\n",
    "from keras import backend as K\n",
    "import tensorflow as tf\n",
    "import os"
   ]
  },
  {
   "cell_type": "code",
   "execution_count": 2,
   "metadata": {},
   "outputs": [],
   "source": [
    "#Root directory of the project\n",
    "ROOT_DIR = os.path.abspath(\".\")\n",
    "TRAIN_DATASET_PATH = os.path.join(ROOT_DIR, \"dataset\")"
   ]
  },
  {
   "cell_type": "code",
   "execution_count": 6,
   "metadata": {
    "colab": {
     "base_uri": "https://localhost:8080/",
     "height": 52
    },
    "colab_type": "code",
    "id": "Ie72vgVDKuuE",
    "outputId": "4835b58d-f7b1-42b8-c67c-2ff9cc7e3fcb"
   },
   "outputs": [],
   "source": [
    "SAVE_DATA_PATH = os.path.join(TRAIN_DATASET_PATH, \"singlecoil_train_3D_images_48x/\")"
   ]
  },
  {
   "cell_type": "code",
   "execution_count": 7,
   "metadata": {
    "colab": {
     "base_uri": "https://localhost:8080/",
     "height": 34
    },
    "colab_type": "code",
    "id": "-fGYL70MK9VM",
    "outputId": "b579e2b3-b9a4-4b46-df54-e17aab6fc138"
   },
   "outputs": [
    {
     "data": {
      "text/plain": [
       "((500, 320, 320, 28), (500, 320, 320, 28))"
      ]
     },
     "execution_count": 7,
     "metadata": {},
     "output_type": "execute_result"
    }
   ],
   "source": [
    "x_train = np.load(\"{}/x_train_3D.npy\".format(SAVE_DATA_PATH))\n",
    "y_train = np.load(\"{}/y_train_3D.npy\".format(SAVE_DATA_PATH))\n",
    "\n",
    "x_train.shape, y_train.shape"
   ]
  },
  {
   "cell_type": "code",
   "execution_count": 8,
   "metadata": {
    "colab": {},
    "colab_type": "code",
    "id": "5Hc6KHhaLTFM"
   },
   "outputs": [],
   "source": [
    "def mean_iou(y_true, y_pred):\n",
    "    prec = []\n",
    "    for t in np.arange(0.5, 1.0, 0.05):\n",
    "        y_pred_ = tf.to_int32(y_pred > t)\n",
    "        score, up_opt = tf.metrics.mean_iou(y_true, y_pred_, 2)\n",
    "        K.get_session().run(tf.local_variables_initializer())\n",
    "        with tf.control_dependencies([up_opt]):\n",
    "            score = tf.identity(score)\n",
    "        prec.append(score)\n",
    "    return K.mean(K.stack(prec), axis=0)"
   ]
  },
  {
   "cell_type": "code",
   "execution_count": 9,
   "metadata": {
    "colab": {},
    "colab_type": "code",
    "id": "k41xWs6CNN9G"
   },
   "outputs": [],
   "source": [
    "model=None"
   ]
  },
  {
   "cell_type": "code",
   "execution_count": 17,
   "metadata": {
    "colab": {
     "base_uri": "https://localhost:8080/",
     "height": 1000
    },
    "colab_type": "code",
    "id": "Wnc7_ZMeLm8a",
    "outputId": "a9408b1c-233d-4022-e95b-6acaf5a837eb"
   },
   "outputs": [
    {
     "name": "stdout",
     "output_type": "stream",
     "text": [
      "__________________________________________________________________________________________________\n",
      "Layer (type)                    Output Shape         Param #     Connected to                     \n",
      "==================================================================================================\n",
      "input_8 (InputLayer)            (None, 320, 320, 1)  0                                            \n",
      "__________________________________________________________________________________________________\n",
      "conv2d_134 (Conv2D)             (None, 320, 320, 16) 160         input_8[0][0]                    \n",
      "__________________________________________________________________________________________________\n",
      "dropout_64 (Dropout)            (None, 320, 320, 16) 0           conv2d_134[0][0]                 \n",
      "__________________________________________________________________________________________________\n",
      "conv2d_135 (Conv2D)             (None, 320, 320, 16) 2320        dropout_64[0][0]                 \n",
      "__________________________________________________________________________________________________\n",
      "max_pooling2d_29 (MaxPooling2D) (None, 160, 160, 16) 0           conv2d_135[0][0]                 \n",
      "__________________________________________________________________________________________________\n",
      "conv2d_136 (Conv2D)             (None, 160, 160, 32) 4640        max_pooling2d_29[0][0]           \n",
      "__________________________________________________________________________________________________\n",
      "dropout_65 (Dropout)            (None, 160, 160, 32) 0           conv2d_136[0][0]                 \n",
      "__________________________________________________________________________________________________\n",
      "conv2d_137 (Conv2D)             (None, 160, 160, 32) 9248        dropout_65[0][0]                 \n",
      "__________________________________________________________________________________________________\n",
      "max_pooling2d_30 (MaxPooling2D) (None, 80, 80, 32)   0           conv2d_137[0][0]                 \n",
      "__________________________________________________________________________________________________\n",
      "conv2d_138 (Conv2D)             (None, 80, 80, 64)   18496       max_pooling2d_30[0][0]           \n",
      "__________________________________________________________________________________________________\n",
      "dropout_66 (Dropout)            (None, 80, 80, 64)   0           conv2d_138[0][0]                 \n",
      "__________________________________________________________________________________________________\n",
      "conv2d_139 (Conv2D)             (None, 80, 80, 64)   36928       dropout_66[0][0]                 \n",
      "__________________________________________________________________________________________________\n",
      "max_pooling2d_31 (MaxPooling2D) (None, 40, 40, 64)   0           conv2d_139[0][0]                 \n",
      "__________________________________________________________________________________________________\n",
      "conv2d_140 (Conv2D)             (None, 40, 40, 128)  73856       max_pooling2d_31[0][0]           \n",
      "__________________________________________________________________________________________________\n",
      "dropout_67 (Dropout)            (None, 40, 40, 128)  0           conv2d_140[0][0]                 \n",
      "__________________________________________________________________________________________________\n",
      "conv2d_141 (Conv2D)             (None, 40, 40, 128)  147584      dropout_67[0][0]                 \n",
      "__________________________________________________________________________________________________\n",
      "max_pooling2d_32 (MaxPooling2D) (None, 20, 20, 128)  0           conv2d_141[0][0]                 \n",
      "__________________________________________________________________________________________________\n",
      "conv2d_142 (Conv2D)             (None, 20, 20, 256)  295168      max_pooling2d_32[0][0]           \n",
      "__________________________________________________________________________________________________\n",
      "dropout_68 (Dropout)            (None, 20, 20, 256)  0           conv2d_142[0][0]                 \n",
      "__________________________________________________________________________________________________\n",
      "conv2d_143 (Conv2D)             (None, 20, 20, 256)  590080      dropout_68[0][0]                 \n",
      "__________________________________________________________________________________________________\n",
      "conv2d_transpose_29 (Conv2DTran (None, 40, 40, 128)  131200      conv2d_143[0][0]                 \n",
      "__________________________________________________________________________________________________\n",
      "concatenate_29 (Concatenate)    (None, 40, 40, 256)  0           conv2d_transpose_29[0][0]        \n",
      "                                                                 conv2d_141[0][0]                 \n",
      "__________________________________________________________________________________________________\n",
      "conv2d_144 (Conv2D)             (None, 40, 40, 128)  295040      concatenate_29[0][0]             \n",
      "__________________________________________________________________________________________________\n",
      "dropout_69 (Dropout)            (None, 40, 40, 128)  0           conv2d_144[0][0]                 \n",
      "__________________________________________________________________________________________________\n",
      "conv2d_145 (Conv2D)             (None, 40, 40, 128)  147584      dropout_69[0][0]                 \n",
      "__________________________________________________________________________________________________\n",
      "conv2d_transpose_30 (Conv2DTran (None, 80, 80, 64)   32832       conv2d_145[0][0]                 \n",
      "__________________________________________________________________________________________________\n",
      "concatenate_30 (Concatenate)    (None, 80, 80, 128)  0           conv2d_transpose_30[0][0]        \n",
      "                                                                 conv2d_139[0][0]                 \n",
      "__________________________________________________________________________________________________\n",
      "conv2d_146 (Conv2D)             (None, 80, 80, 64)   73792       concatenate_30[0][0]             \n",
      "__________________________________________________________________________________________________\n",
      "dropout_70 (Dropout)            (None, 80, 80, 64)   0           conv2d_146[0][0]                 \n",
      "__________________________________________________________________________________________________\n",
      "conv2d_147 (Conv2D)             (None, 80, 80, 64)   36928       dropout_70[0][0]                 \n",
      "__________________________________________________________________________________________________\n",
      "conv2d_transpose_31 (Conv2DTran (None, 160, 160, 32) 8224        conv2d_147[0][0]                 \n",
      "__________________________________________________________________________________________________\n",
      "concatenate_31 (Concatenate)    (None, 160, 160, 64) 0           conv2d_transpose_31[0][0]        \n",
      "                                                                 conv2d_137[0][0]                 \n",
      "__________________________________________________________________________________________________\n",
      "conv2d_148 (Conv2D)             (None, 160, 160, 32) 18464       concatenate_31[0][0]             \n",
      "__________________________________________________________________________________________________\n",
      "dropout_71 (Dropout)            (None, 160, 160, 32) 0           conv2d_148[0][0]                 \n",
      "__________________________________________________________________________________________________\n",
      "conv2d_149 (Conv2D)             (None, 160, 160, 32) 9248        dropout_71[0][0]                 \n",
      "__________________________________________________________________________________________________\n",
      "conv2d_transpose_32 (Conv2DTran (None, 320, 320, 16) 2064        conv2d_149[0][0]                 \n",
      "__________________________________________________________________________________________________\n",
      "concatenate_32 (Concatenate)    (None, 320, 320, 32) 0           conv2d_transpose_32[0][0]        \n",
      "                                                                 conv2d_135[0][0]                 \n",
      "__________________________________________________________________________________________________\n",
      "conv2d_150 (Conv2D)             (None, 320, 320, 16) 4624        concatenate_32[0][0]             \n",
      "__________________________________________________________________________________________________\n",
      "dropout_72 (Dropout)            (None, 320, 320, 16) 0           conv2d_150[0][0]                 \n",
      "__________________________________________________________________________________________________\n",
      "conv2d_151 (Conv2D)             (None, 320, 320, 16) 2320        dropout_72[0][0]                 \n",
      "__________________________________________________________________________________________________\n",
      "conv2d_152 (Conv2D)             (None, 320, 320, 1)  17          conv2d_151[0][0]                 \n",
      "==================================================================================================\n",
      "Total params: 1,940,817\n",
      "Trainable params: 1,940,817\n",
      "Non-trainable params: 0\n",
      "__________________________________________________________________________________________________\n"
     ]
    }
   ],
   "source": [
    "inputs = Input((320, 320, 1))\n",
    "#s = Lambda(lambda x: x / 255) (inputs)\n",
    "\n",
    "c1 = Conv2D(16, (3, 3), activation='elu', kernel_initializer='he_normal', padding='same') (inputs)\n",
    "c1 = Dropout(0.1) (c1)\n",
    "c1 = Conv2D(16, (3, 3), activation='elu', kernel_initializer='he_normal', padding='same') (c1)\n",
    "p1 = MaxPooling2D((2, 2)) (c1)\n",
    "\n",
    "c2 = Conv2D(32, (3, 3), activation='elu', kernel_initializer='he_normal', padding='same') (p1)\n",
    "c2 = Dropout(0.1) (c2)\n",
    "c2 = Conv2D(32, (3, 3), activation='elu', kernel_initializer='he_normal', padding='same') (c2)\n",
    "p2 = MaxPooling2D((2, 2)) (c2)\n",
    "\n",
    "c3 = Conv2D(64, (3, 3), activation='elu', kernel_initializer='he_normal', padding='same') (p2)\n",
    "c3 = Dropout(0.2) (c3)\n",
    "c3 = Conv2D(64, (3, 3), activation='elu', kernel_initializer='he_normal', padding='same') (c3)\n",
    "p3 = MaxPooling2D((2, 2)) (c3)\n",
    "\n",
    "c4 = Conv2D(128, (3, 3), activation='elu', kernel_initializer='he_normal', padding='same') (p3)\n",
    "c4 = Dropout(0.2) (c4)\n",
    "c4 = Conv2D(128, (3, 3), activation='elu', kernel_initializer='he_normal', padding='same') (c4)\n",
    "p4 = MaxPooling2D(pool_size=(2, 2)) (c4)\n",
    "\n",
    "c5 = Conv2D(256, (3, 3), activation='elu', kernel_initializer='he_normal', padding='same') (p4)\n",
    "c5 = Dropout(0.3) (c5)\n",
    "c5 = Conv2D(256, (3, 3), activation='elu', kernel_initializer='he_normal', padding='same') (c5)\n",
    "\n",
    "u6 = Conv2DTranspose(128, (2, 2), strides=(2, 2), padding='same') (c5)\n",
    "u6 = concatenate([u6, c4])\n",
    "c6 = Conv2D(128, (3, 3), activation='elu', kernel_initializer='he_normal', padding='same') (u6)\n",
    "c6 = Dropout(0.2) (c6)\n",
    "c6 = Conv2D(128, (3, 3), activation='elu', kernel_initializer='he_normal', padding='same') (c6)\n",
    "\n",
    "u7 = Conv2DTranspose(64, (2, 2), strides=(2, 2), padding='same') (c6)\n",
    "u7 = concatenate([u7, c3])\n",
    "c7 = Conv2D(64, (3, 3), activation='elu', kernel_initializer='he_normal', padding='same') (u7)\n",
    "c7 = Dropout(0.2) (c7)\n",
    "c7 = Conv2D(64, (3, 3), activation='elu', kernel_initializer='he_normal', padding='same') (c7)\n",
    "\n",
    "u8 = Conv2DTranspose(32, (2, 2), strides=(2, 2), padding='same') (c7)\n",
    "u8 = concatenate([u8, c2])\n",
    "c8 = Conv2D(32, (3, 3), activation='elu', kernel_initializer='he_normal', padding='same') (u8)\n",
    "c8 = Dropout(0.1) (c8)\n",
    "c8 = Conv2D(32, (3, 3), activation='elu', kernel_initializer='he_normal', padding='same') (c8)\n",
    "\n",
    "u9 = Conv2DTranspose(16, (2, 2), strides=(2, 2), padding='same') (c8)\n",
    "u9 = concatenate([u9, c1], axis=3)\n",
    "c9 = Conv2D(16, (3, 3), activation='elu', kernel_initializer='he_normal', padding='same') (u9)\n",
    "c9 = Dropout(0.1) (c9)\n",
    "c9 = Conv2D(16, (3, 3), activation='elu', kernel_initializer='he_normal', padding='same') (c9)\n",
    "\n",
    "outputs = Conv2D(1, (1, 1), activation='sigmoid') (c9)\n",
    "\n",
    "model = Model(inputs=[inputs], outputs=[outputs])\n",
    "model.compile(optimizer=optimizers.Adam(lr=0.001), loss='mae', metrics=[mean_iou])\n",
    "model.summary()"
   ]
  },
  {
   "cell_type": "code",
   "execution_count": 18,
   "metadata": {
    "colab": {
     "base_uri": "https://localhost:8080/",
     "height": 1000
    },
    "colab_type": "code",
    "id": "pOdNSc5eLsAx",
    "outputId": "8f224356-5529-41b1-e6fb-16ef9bff2cf1"
   },
   "outputs": [
    {
     "name": "stdout",
     "output_type": "stream",
     "text": [
      "Train on 9000 samples, validate on 1000 samples\n",
      "Epoch 1/300\n",
      "9000/9000 [==============================] - 419s 47ms/step - loss: 0.0531 - mean_iou: 0.4947 - val_loss: 0.0425 - val_mean_iou: 0.4959\n",
      "Epoch 2/300\n",
      "9000/9000 [==============================] - 419s 47ms/step - loss: 0.0394 - mean_iou: 0.4957 - val_loss: 0.0413 - val_mean_iou: 0.4956\n",
      "Epoch 3/300\n",
      "9000/9000 [==============================] - 418s 46ms/step - loss: 0.0373 - mean_iou: 0.4955 - val_loss: 0.0383 - val_mean_iou: 0.4955\n",
      "Epoch 4/300\n",
      "9000/9000 [==============================] - 415s 46ms/step - loss: 0.0361 - mean_iou: 0.4955 - val_loss: 0.0374 - val_mean_iou: 0.4954\n",
      "Epoch 5/300\n",
      "9000/9000 [==============================] - 417s 46ms/step - loss: 0.0355 - mean_iou: 0.4954 - val_loss: 0.0390 - val_mean_iou: 0.4954\n",
      "Epoch 6/300\n",
      "9000/9000 [==============================] - 418s 46ms/step - loss: 0.0351 - mean_iou: 0.4953 - val_loss: 0.0363 - val_mean_iou: 0.4953\n",
      "Epoch 7/300\n",
      "9000/9000 [==============================] - 417s 46ms/step - loss: 0.0346 - mean_iou: 0.4953 - val_loss: 0.0364 - val_mean_iou: 0.4952\n",
      "Epoch 8/300\n",
      "9000/9000 [==============================] - 418s 46ms/step - loss: 0.0343 - mean_iou: 0.4952 - val_loss: 0.0353 - val_mean_iou: 0.4952\n",
      "Epoch 9/300\n",
      "9000/9000 [==============================] - 415s 46ms/step - loss: 0.0340 - mean_iou: 0.4952 - val_loss: 0.0358 - val_mean_iou: 0.4952\n",
      "Epoch 10/300\n",
      "9000/9000 [==============================] - 416s 46ms/step - loss: 0.0336 - mean_iou: 0.4952 - val_loss: 0.0345 - val_mean_iou: 0.4951\n",
      "Epoch 11/300\n",
      "9000/9000 [==============================] - 415s 46ms/step - loss: 0.0331 - mean_iou: 0.4951 - val_loss: 0.0349 - val_mean_iou: 0.4951\n",
      "Epoch 12/300\n",
      "9000/9000 [==============================] - 414s 46ms/step - loss: 0.0327 - mean_iou: 0.4951 - val_loss: 0.0356 - val_mean_iou: 0.4951\n",
      "Epoch 13/300\n",
      "9000/9000 [==============================] - 415s 46ms/step - loss: 0.0325 - mean_iou: 0.4951 - val_loss: 0.0345 - val_mean_iou: 0.4951\n",
      "Epoch 14/300\n",
      "9000/9000 [==============================] - 414s 46ms/step - loss: 0.0323 - mean_iou: 0.4951 - val_loss: 0.0342 - val_mean_iou: 0.4951\n",
      "Epoch 15/300\n",
      "9000/9000 [==============================] - 414s 46ms/step - loss: 0.0321 - mean_iou: 0.4951 - val_loss: 0.0336 - val_mean_iou: 0.4951\n",
      "Epoch 16/300\n",
      "9000/9000 [==============================] - 416s 46ms/step - loss: 0.0317 - mean_iou: 0.4950 - val_loss: 0.0342 - val_mean_iou: 0.4950\n",
      "Epoch 17/300\n",
      "9000/9000 [==============================] - 415s 46ms/step - loss: 0.0314 - mean_iou: 0.4950 - val_loss: 0.0344 - val_mean_iou: 0.4950\n",
      "Epoch 18/300\n",
      "9000/9000 [==============================] - 416s 46ms/step - loss: 0.0313 - mean_iou: 0.4950 - val_loss: 0.0340 - val_mean_iou: 0.4950\n",
      "Epoch 19/300\n",
      "9000/9000 [==============================] - 415s 46ms/step - loss: 0.0310 - mean_iou: 0.4950 - val_loss: 0.0339 - val_mean_iou: 0.4950\n",
      "Epoch 20/300\n",
      "9000/9000 [==============================] - 415s 46ms/step - loss: 0.0309 - mean_iou: 0.4950 - val_loss: 0.0336 - val_mean_iou: 0.4950\n",
      "Epoch 21/300\n",
      "9000/9000 [==============================] - 414s 46ms/step - loss: 0.0305 - mean_iou: 0.4949 - val_loss: 0.0336 - val_mean_iou: 0.4949\n",
      "Epoch 22/300\n",
      "9000/9000 [==============================] - 415s 46ms/step - loss: 0.0304 - mean_iou: 0.4949 - val_loss: 0.0338 - val_mean_iou: 0.4949\n",
      "Epoch 23/300\n",
      "9000/9000 [==============================] - 415s 46ms/step - loss: 0.0303 - mean_iou: 0.4949 - val_loss: 0.0336 - val_mean_iou: 0.4949\n",
      "Epoch 24/300\n",
      "9000/9000 [==============================] - 415s 46ms/step - loss: 0.0300 - mean_iou: 0.4949 - val_loss: 0.0338 - val_mean_iou: 0.4949\n",
      "Epoch 25/300\n",
      "9000/9000 [==============================] - 414s 46ms/step - loss: 0.0298 - mean_iou: 0.4949 - val_loss: 0.0333 - val_mean_iou: 0.4949\n",
      "Epoch 26/300\n",
      "9000/9000 [==============================] - 414s 46ms/step - loss: 0.0296 - mean_iou: 0.4949 - val_loss: 0.0334 - val_mean_iou: 0.4949\n",
      "Epoch 27/300\n",
      "9000/9000 [==============================] - 414s 46ms/step - loss: 0.0296 - mean_iou: 0.4948 - val_loss: 0.0337 - val_mean_iou: 0.4948\n",
      "Epoch 28/300\n",
      "9000/9000 [==============================] - 415s 46ms/step - loss: 0.0294 - mean_iou: 0.4948 - val_loss: 0.0333 - val_mean_iou: 0.4948\n",
      "Epoch 29/300\n",
      "9000/9000 [==============================] - 415s 46ms/step - loss: 0.0293 - mean_iou: 0.4948 - val_loss: 0.0331 - val_mean_iou: 0.4948\n",
      "Epoch 30/300\n",
      "9000/9000 [==============================] - 414s 46ms/step - loss: 0.0291 - mean_iou: 0.4948 - val_loss: 0.0334 - val_mean_iou: 0.4948\n",
      "Epoch 31/300\n",
      "9000/9000 [==============================] - 415s 46ms/step - loss: 0.0292 - mean_iou: 0.4948 - val_loss: 0.0341 - val_mean_iou: 0.4948\n",
      "Epoch 32/300\n",
      "9000/9000 [==============================] - 414s 46ms/step - loss: 0.0289 - mean_iou: 0.4948 - val_loss: 0.0332 - val_mean_iou: 0.4948\n",
      "Epoch 33/300\n",
      "9000/9000 [==============================] - 414s 46ms/step - loss: 0.0288 - mean_iou: 0.4948 - val_loss: 0.0334 - val_mean_iou: 0.4948\n",
      "Epoch 34/300\n",
      "9000/9000 [==============================] - 413s 46ms/step - loss: 0.0287 - mean_iou: 0.4948 - val_loss: 0.0336 - val_mean_iou: 0.4948\n",
      "Epoch 35/300\n",
      "9000/9000 [==============================] - 416s 46ms/step - loss: 0.0285 - mean_iou: 0.4948 - val_loss: 0.0338 - val_mean_iou: 0.4948\n",
      "Epoch 36/300\n",
      "9000/9000 [==============================] - 414s 46ms/step - loss: 0.0286 - mean_iou: 0.4948 - val_loss: 0.0336 - val_mean_iou: 0.4947\n",
      "Epoch 37/300\n",
      "9000/9000 [==============================] - 416s 46ms/step - loss: 0.0284 - mean_iou: 0.4947 - val_loss: 0.0340 - val_mean_iou: 0.4947\n",
      "Epoch 38/300\n",
      "9000/9000 [==============================] - 414s 46ms/step - loss: 0.0283 - mean_iou: 0.4947 - val_loss: 0.0332 - val_mean_iou: 0.4947\n",
      "Epoch 39/300\n",
      "9000/9000 [==============================] - 415s 46ms/step - loss: 0.0282 - mean_iou: 0.4947 - val_loss: 0.0332 - val_mean_iou: 0.4947\n",
      "Epoch 40/300\n",
      "9000/9000 [==============================] - 414s 46ms/step - loss: 0.0283 - mean_iou: 0.4947 - val_loss: 0.0332 - val_mean_iou: 0.4947\n",
      "Epoch 41/300\n",
      "9000/9000 [==============================] - 414s 46ms/step - loss: 0.0280 - mean_iou: 0.4947 - val_loss: 0.0330 - val_mean_iou: 0.4947\n",
      "Epoch 42/300\n",
      "9000/9000 [==============================] - 414s 46ms/step - loss: 0.0280 - mean_iou: 0.4947 - val_loss: 0.0333 - val_mean_iou: 0.4947\n",
      "Epoch 43/300\n",
      "9000/9000 [==============================] - 414s 46ms/step - loss: 0.0279 - mean_iou: 0.4947 - val_loss: 0.0333 - val_mean_iou: 0.4947\n",
      "Epoch 44/300\n",
      "9000/9000 [==============================] - 414s 46ms/step - loss: 0.0280 - mean_iou: 0.4947 - val_loss: 0.0332 - val_mean_iou: 0.4947\n",
      "Epoch 45/300\n",
      "9000/9000 [==============================] - 415s 46ms/step - loss: 0.0279 - mean_iou: 0.4947 - val_loss: 0.0338 - val_mean_iou: 0.4947\n",
      "Epoch 46/300\n",
      "5040/9000 [===============>..............] - ETA: 2:54 - loss: 0.0278 - mean_iou: 0.4947"
     ]
    },
    {
     "ename": "KeyboardInterrupt",
     "evalue": "",
     "output_type": "error",
     "traceback": [
      "\u001b[1;31m---------------------------------------------------------------------------\u001b[0m",
      "\u001b[1;31mKeyboardInterrupt\u001b[0m                         Traceback (most recent call last)",
      "\u001b[1;32m<ipython-input-18-d7301ee09f7d>\u001b[0m in \u001b[0;36m<module>\u001b[1;34m\u001b[0m\n\u001b[1;32m----> 1\u001b[1;33m \u001b[0mh\u001b[0m \u001b[1;33m=\u001b[0m \u001b[0mmodel\u001b[0m\u001b[1;33m.\u001b[0m\u001b[0mfit\u001b[0m\u001b[1;33m(\u001b[0m\u001b[0mx_train\u001b[0m\u001b[1;33m,\u001b[0m \u001b[0my_train\u001b[0m\u001b[1;33m,\u001b[0m \u001b[0mvalidation_split\u001b[0m\u001b[1;33m=\u001b[0m\u001b[1;36m0.1\u001b[0m\u001b[1;33m,\u001b[0m \u001b[0mbatch_size\u001b[0m\u001b[1;33m=\u001b[0m\u001b[1;36m16\u001b[0m\u001b[1;33m,\u001b[0m \u001b[0mepochs\u001b[0m\u001b[1;33m=\u001b[0m\u001b[1;36m300\u001b[0m\u001b[1;33m)\u001b[0m\u001b[1;33m\u001b[0m\u001b[1;33m\u001b[0m\u001b[0m\n\u001b[0m",
      "\u001b[1;32m~\\Anaconda3\\envs\\sticker\\lib\\site-packages\\keras\\engine\\training.py\u001b[0m in \u001b[0;36mfit\u001b[1;34m(self, x, y, batch_size, epochs, verbose, callbacks, validation_split, validation_data, shuffle, class_weight, sample_weight, initial_epoch, steps_per_epoch, validation_steps, **kwargs)\u001b[0m\n\u001b[0;32m   1037\u001b[0m                                         \u001b[0minitial_epoch\u001b[0m\u001b[1;33m=\u001b[0m\u001b[0minitial_epoch\u001b[0m\u001b[1;33m,\u001b[0m\u001b[1;33m\u001b[0m\u001b[1;33m\u001b[0m\u001b[0m\n\u001b[0;32m   1038\u001b[0m                                         \u001b[0msteps_per_epoch\u001b[0m\u001b[1;33m=\u001b[0m\u001b[0msteps_per_epoch\u001b[0m\u001b[1;33m,\u001b[0m\u001b[1;33m\u001b[0m\u001b[1;33m\u001b[0m\u001b[0m\n\u001b[1;32m-> 1039\u001b[1;33m                                         validation_steps=validation_steps)\n\u001b[0m\u001b[0;32m   1040\u001b[0m \u001b[1;33m\u001b[0m\u001b[0m\n\u001b[0;32m   1041\u001b[0m     def evaluate(self, x=None, y=None,\n",
      "\u001b[1;32m~\\Anaconda3\\envs\\sticker\\lib\\site-packages\\keras\\engine\\training_arrays.py\u001b[0m in \u001b[0;36mfit_loop\u001b[1;34m(model, f, ins, out_labels, batch_size, epochs, verbose, callbacks, val_f, val_ins, shuffle, callback_metrics, initial_epoch, steps_per_epoch, validation_steps)\u001b[0m\n\u001b[0;32m    197\u001b[0m                     \u001b[0mins_batch\u001b[0m\u001b[1;33m[\u001b[0m\u001b[0mi\u001b[0m\u001b[1;33m]\u001b[0m \u001b[1;33m=\u001b[0m \u001b[0mins_batch\u001b[0m\u001b[1;33m[\u001b[0m\u001b[0mi\u001b[0m\u001b[1;33m]\u001b[0m\u001b[1;33m.\u001b[0m\u001b[0mtoarray\u001b[0m\u001b[1;33m(\u001b[0m\u001b[1;33m)\u001b[0m\u001b[1;33m\u001b[0m\u001b[1;33m\u001b[0m\u001b[0m\n\u001b[0;32m    198\u001b[0m \u001b[1;33m\u001b[0m\u001b[0m\n\u001b[1;32m--> 199\u001b[1;33m                 \u001b[0mouts\u001b[0m \u001b[1;33m=\u001b[0m \u001b[0mf\u001b[0m\u001b[1;33m(\u001b[0m\u001b[0mins_batch\u001b[0m\u001b[1;33m)\u001b[0m\u001b[1;33m\u001b[0m\u001b[1;33m\u001b[0m\u001b[0m\n\u001b[0m\u001b[0;32m    200\u001b[0m                 \u001b[0mouts\u001b[0m \u001b[1;33m=\u001b[0m \u001b[0mto_list\u001b[0m\u001b[1;33m(\u001b[0m\u001b[0mouts\u001b[0m\u001b[1;33m)\u001b[0m\u001b[1;33m\u001b[0m\u001b[1;33m\u001b[0m\u001b[0m\n\u001b[0;32m    201\u001b[0m                 \u001b[1;32mfor\u001b[0m \u001b[0ml\u001b[0m\u001b[1;33m,\u001b[0m \u001b[0mo\u001b[0m \u001b[1;32min\u001b[0m \u001b[0mzip\u001b[0m\u001b[1;33m(\u001b[0m\u001b[0mout_labels\u001b[0m\u001b[1;33m,\u001b[0m \u001b[0mouts\u001b[0m\u001b[1;33m)\u001b[0m\u001b[1;33m:\u001b[0m\u001b[1;33m\u001b[0m\u001b[1;33m\u001b[0m\u001b[0m\n",
      "\u001b[1;32m~\\Anaconda3\\envs\\sticker\\lib\\site-packages\\keras\\backend\\tensorflow_backend.py\u001b[0m in \u001b[0;36m__call__\u001b[1;34m(self, inputs)\u001b[0m\n\u001b[0;32m   2713\u001b[0m                 \u001b[1;32mreturn\u001b[0m \u001b[0mself\u001b[0m\u001b[1;33m.\u001b[0m\u001b[0m_legacy_call\u001b[0m\u001b[1;33m(\u001b[0m\u001b[0minputs\u001b[0m\u001b[1;33m)\u001b[0m\u001b[1;33m\u001b[0m\u001b[1;33m\u001b[0m\u001b[0m\n\u001b[0;32m   2714\u001b[0m \u001b[1;33m\u001b[0m\u001b[0m\n\u001b[1;32m-> 2715\u001b[1;33m             \u001b[1;32mreturn\u001b[0m \u001b[0mself\u001b[0m\u001b[1;33m.\u001b[0m\u001b[0m_call\u001b[0m\u001b[1;33m(\u001b[0m\u001b[0minputs\u001b[0m\u001b[1;33m)\u001b[0m\u001b[1;33m\u001b[0m\u001b[1;33m\u001b[0m\u001b[0m\n\u001b[0m\u001b[0;32m   2716\u001b[0m         \u001b[1;32melse\u001b[0m\u001b[1;33m:\u001b[0m\u001b[1;33m\u001b[0m\u001b[1;33m\u001b[0m\u001b[0m\n\u001b[0;32m   2717\u001b[0m             \u001b[1;32mif\u001b[0m \u001b[0mpy_any\u001b[0m\u001b[1;33m(\u001b[0m\u001b[0mis_tensor\u001b[0m\u001b[1;33m(\u001b[0m\u001b[0mx\u001b[0m\u001b[1;33m)\u001b[0m \u001b[1;32mfor\u001b[0m \u001b[0mx\u001b[0m \u001b[1;32min\u001b[0m \u001b[0minputs\u001b[0m\u001b[1;33m)\u001b[0m\u001b[1;33m:\u001b[0m\u001b[1;33m\u001b[0m\u001b[1;33m\u001b[0m\u001b[0m\n",
      "\u001b[1;32m~\\Anaconda3\\envs\\sticker\\lib\\site-packages\\keras\\backend\\tensorflow_backend.py\u001b[0m in \u001b[0;36m_call\u001b[1;34m(self, inputs)\u001b[0m\n\u001b[0;32m   2673\u001b[0m             \u001b[0mfetched\u001b[0m \u001b[1;33m=\u001b[0m \u001b[0mself\u001b[0m\u001b[1;33m.\u001b[0m\u001b[0m_callable_fn\u001b[0m\u001b[1;33m(\u001b[0m\u001b[1;33m*\u001b[0m\u001b[0marray_vals\u001b[0m\u001b[1;33m,\u001b[0m \u001b[0mrun_metadata\u001b[0m\u001b[1;33m=\u001b[0m\u001b[0mself\u001b[0m\u001b[1;33m.\u001b[0m\u001b[0mrun_metadata\u001b[0m\u001b[1;33m)\u001b[0m\u001b[1;33m\u001b[0m\u001b[1;33m\u001b[0m\u001b[0m\n\u001b[0;32m   2674\u001b[0m         \u001b[1;32melse\u001b[0m\u001b[1;33m:\u001b[0m\u001b[1;33m\u001b[0m\u001b[1;33m\u001b[0m\u001b[0m\n\u001b[1;32m-> 2675\u001b[1;33m             \u001b[0mfetched\u001b[0m \u001b[1;33m=\u001b[0m \u001b[0mself\u001b[0m\u001b[1;33m.\u001b[0m\u001b[0m_callable_fn\u001b[0m\u001b[1;33m(\u001b[0m\u001b[1;33m*\u001b[0m\u001b[0marray_vals\u001b[0m\u001b[1;33m)\u001b[0m\u001b[1;33m\u001b[0m\u001b[1;33m\u001b[0m\u001b[0m\n\u001b[0m\u001b[0;32m   2676\u001b[0m         \u001b[1;32mreturn\u001b[0m \u001b[0mfetched\u001b[0m\u001b[1;33m[\u001b[0m\u001b[1;33m:\u001b[0m\u001b[0mlen\u001b[0m\u001b[1;33m(\u001b[0m\u001b[0mself\u001b[0m\u001b[1;33m.\u001b[0m\u001b[0moutputs\u001b[0m\u001b[1;33m)\u001b[0m\u001b[1;33m]\u001b[0m\u001b[1;33m\u001b[0m\u001b[1;33m\u001b[0m\u001b[0m\n\u001b[0;32m   2677\u001b[0m \u001b[1;33m\u001b[0m\u001b[0m\n",
      "\u001b[1;32m~\\Anaconda3\\envs\\sticker\\lib\\site-packages\\tensorflow\\python\\client\\session.py\u001b[0m in \u001b[0;36m__call__\u001b[1;34m(self, *args, **kwargs)\u001b[0m\n\u001b[0;32m   1437\u001b[0m           ret = tf_session.TF_SessionRunCallable(\n\u001b[0;32m   1438\u001b[0m               \u001b[0mself\u001b[0m\u001b[1;33m.\u001b[0m\u001b[0m_session\u001b[0m\u001b[1;33m.\u001b[0m\u001b[0m_session\u001b[0m\u001b[1;33m,\u001b[0m \u001b[0mself\u001b[0m\u001b[1;33m.\u001b[0m\u001b[0m_handle\u001b[0m\u001b[1;33m,\u001b[0m \u001b[0margs\u001b[0m\u001b[1;33m,\u001b[0m \u001b[0mstatus\u001b[0m\u001b[1;33m,\u001b[0m\u001b[1;33m\u001b[0m\u001b[1;33m\u001b[0m\u001b[0m\n\u001b[1;32m-> 1439\u001b[1;33m               run_metadata_ptr)\n\u001b[0m\u001b[0;32m   1440\u001b[0m         \u001b[1;32mif\u001b[0m \u001b[0mrun_metadata\u001b[0m\u001b[1;33m:\u001b[0m\u001b[1;33m\u001b[0m\u001b[1;33m\u001b[0m\u001b[0m\n\u001b[0;32m   1441\u001b[0m           \u001b[0mproto_data\u001b[0m \u001b[1;33m=\u001b[0m \u001b[0mtf_session\u001b[0m\u001b[1;33m.\u001b[0m\u001b[0mTF_GetBuffer\u001b[0m\u001b[1;33m(\u001b[0m\u001b[0mrun_metadata_ptr\u001b[0m\u001b[1;33m)\u001b[0m\u001b[1;33m\u001b[0m\u001b[1;33m\u001b[0m\u001b[0m\n",
      "\u001b[1;31mKeyboardInterrupt\u001b[0m: "
     ]
    }
   ],
   "source": [
    "h = model.fit(x_train, y_train, validation_split=0.1, batch_size=16, epochs=300)"
   ]
  },
  {
   "cell_type": "code",
   "execution_count": null,
   "metadata": {
    "colab": {},
    "colab_type": "code",
    "id": "-SYqozfmLx-n"
   },
   "outputs": [],
   "source": [
    "model.save(\"{}/unet_1.h5\".format(PATH_MAIN))"
   ]
  },
  {
   "cell_type": "code",
   "execution_count": 17,
   "metadata": {
    "colab": {
     "base_uri": "https://localhost:8080/",
     "height": 562
    },
    "colab_type": "code",
    "id": "uSBEBfAOMe4a",
    "outputId": "3c773d25-5bef-41e5-adcc-535ae4f6833f"
   },
   "outputs": [
    {
     "data": {
      "image/png": "[encoded data removed]",
      "text/plain": [
       "<Figure size 432x288 with 1 Axes>"
      ]
     },
     "metadata": {
      "tags": []
     },
     "output_type": "display_data"
    },
    {
     "data": {
      "image/png": "[encoded data removed]",
      "text/plain": [
       "<Figure size 432x288 with 1 Axes>"
      ]
     },
     "metadata": {
      "tags": []
     },
     "output_type": "display_data"
    },
    {
     "data": {
      "text/plain": [
       "<Figure size 432x288 with 0 Axes>"
      ]
     },
     "metadata": {
      "tags": []
     },
     "output_type": "display_data"
    }
   ],
   "source": [
    "import matplotlib.pyplot as plt\n",
    "acc = h.history['mean_iou']\n",
    "val_acc = h.history['val_mean_iou']\n",
    "loss = h.history['loss']\n",
    "val_loss = h.history['val_loss']\n",
    "\n",
    "epochs = range(len(acc))\n",
    "\n",
    "plt.plot(epochs, acc, 'r', label='Training IoU')\n",
    "plt.plot(epochs, val_acc, 'b', label='Validation IoU')\n",
    "plt.title('Training and validation IoU')\n",
    "plt.legend(loc=0)\n",
    "plt.figure()\n",
    "\n",
    "\n",
    "plt.plot(epochs, loss, 'r', label='Training loss')\n",
    "plt.plot(epochs, val_loss, 'b', label='Validation loss')\n",
    "plt.title('Training and validation loss')\n",
    "plt.legend(loc=0)\n",
    "plt.figure()\n",
    "\n",
    "\n",
    "plt.show()\n"
   ]
  },
  {
   "cell_type": "code",
   "execution_count": null,
   "metadata": {
    "colab": {},
    "colab_type": "code",
    "id": "smwDcjT5NCFc"
   },
   "outputs": [],
   "source": []
  }
 ],
 "metadata": {
  "accelerator": "GPU",
  "colab": {
   "name": "unet.ipynb",
   "provenance": [],
   "version": "0.3.2"
  },
  "kernelspec": {
   "display_name": "Python 3",
   "language": "python",
   "name": "python3"
  },
  "language_info": {
   "codemirror_mode": {
    "name": "ipython",
    "version": 3
   },
   "file_extension": ".py",
   "mimetype": "text/x-python",
   "name": "python",
   "nbconvert_exporter": "python",
   "pygments_lexer": "ipython3",
   "version": "3.6.8"
  }
 },
 "nbformat": 4,
 "nbformat_minor": 2
}
