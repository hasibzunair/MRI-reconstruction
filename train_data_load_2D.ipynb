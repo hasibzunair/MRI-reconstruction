{
 "cells": [
  {
   "cell_type": "markdown",
   "metadata": {},
   "source": [
    "### Loads raw input volumetric data(numpy array) and convert to 2D images training format in HIGH and LOW folders\n",
    "* input image -> WH\n",
    "* output image -> WH"
   ]
  },
  {
   "cell_type": "code",
   "execution_count": 1,
   "metadata": {},
   "outputs": [
    {
     "data": {
      "text/plain": [
       "('/home/hasib/MRI-reconstruction/dataset/singlecoil_train_3D_images_48x/low/',\n",
       " '/home/hasib/MRI-reconstruction/dataset/singlecoil_train_3D_images_48x/high/')"
      ]
     },
     "execution_count": 1,
     "metadata": {},
     "output_type": "execute_result"
    }
   ],
   "source": [
    "import os, glob\n",
    "import cv2\n",
    "import numpy as np\n",
    "import matplotlib.pyplot as plt\n",
    "import h5py\n",
    "import helpers as H\n",
    "from tqdm import tqdm\n",
    "\n",
    "#Root directory of the project\n",
    "ROOT_DIR = os.path.abspath(\".\")\n",
    "TRAIN_DATASET_PATH = os.path.join(ROOT_DIR, \"dataset\")\n",
    "\n",
    "# Dataset directories\n",
    "LOW_DIR = \"singlecoil_train_3D_images_48x/low/\"\n",
    "HIGH_DIR = \"singlecoil_train_3D_images_48x/high/\"\n",
    "\n",
    "LOW_DIR_PATH = os.path.join(TRAIN_DATASET_PATH, LOW_DIR)\n",
    "HIGH_DIR_PATH = os.path.join(TRAIN_DATASET_PATH, HIGH_DIR)\n",
    "#SAVE_DATA_PATH = os.path.join(TRAIN_DATASET_PATH, \"singlecoil_train_3D_images_48x_normalized\")\n",
    "LOW_DIR_PATH, HIGH_DIR_PATH"
   ]
  },
  {
   "cell_type": "code",
   "execution_count": 2,
   "metadata": {},
   "outputs": [],
   "source": [
    "w, h = 128, 128\n",
    "def rs_img(img):\n",
    "    '''W and H is 128 now\n",
    "    '''\n",
    "    print(img.shape[-1])\n",
    "    print(type(img.shape[-1]))\n",
    "    flatten = [cv2.resize(img[:,:,i], (w, h), interpolation=cv2.INTER_CUBIC) for i in range(img.shape[-1])]\n",
    "    img = np.array(np.dstack(flatten)) \n",
    "    return img\n",
    "\n",
    "\n",
    "def change_depth(img):\n",
    "\n",
    "    img_start = img[:,:,:4]\n",
    "    \n",
    "    mid = int(img.shape[-1]/2)\n",
    "    img_middle = img[:,:,mid-10:mid+10]\n",
    "    \n",
    "    img_end = img[:,:,-4:]\n",
    "    img = np.concatenate((img_start, img_middle, img_end), axis=2)\n",
    "    return img\n",
    "\n",
    "\n",
    "def show_slices(data, slice_nums, cmap=None):\n",
    "    data = np.moveaxis(data, 2, 0)\n",
    "    fig = plt.figure(figsize=(16, 16))\n",
    "    for i, num in enumerate(slice_nums):\n",
    "        plt.subplot(1, len(slice_nums), i + 1)\n",
    "        plt.imshow(data[num], cmap=cmap)        "
   ]
  },
  {
   "cell_type": "markdown",
   "metadata": {},
   "source": [
    "#### Check number of contents"
   ]
  },
  {
   "cell_type": "code",
   "execution_count": 3,
   "metadata": {},
   "outputs": [
    {
     "data": {
      "text/plain": [
       "(8, 8)"
      ]
     },
     "execution_count": 3,
     "metadata": {},
     "output_type": "execute_result"
    }
   ],
   "source": [
    "len(os.listdir(LOW_DIR_PATH)), len(os.listdir(HIGH_DIR_PATH))"
   ]
  },
  {
   "cell_type": "code",
   "execution_count": 4,
   "metadata": {},
   "outputs": [
    {
     "data": {
      "text/plain": [
       "(8, 8)"
      ]
     },
     "execution_count": 4,
     "metadata": {},
     "output_type": "execute_result"
    }
   ],
   "source": [
    "low_full_paths = [\"{}/{}\".format(LOW_DIR_PATH,l) for l in H.sort_paths(os.listdir(LOW_DIR_PATH))]\n",
    "high_full_paths = [\"{}/{}\".format(HIGH_DIR_PATH,h) for h in H.sort_paths(os.listdir(HIGH_DIR_PATH))]\n",
    "\n",
    "len(low_full_paths), len(high_full_paths)"
   ]
  },
  {
   "cell_type": "code",
   "execution_count": 5,
   "metadata": {},
   "outputs": [
    {
     "data": {
      "text/plain": [
       "['/home/hasib/MRI-reconstruction/dataset/singlecoil_train_3D_images_48x/low//1.npy',\n",
       " '/home/hasib/MRI-reconstruction/dataset/singlecoil_train_3D_images_48x/low//2.npy',\n",
       " '/home/hasib/MRI-reconstruction/dataset/singlecoil_train_3D_images_48x/low//3.npy',\n",
       " '/home/hasib/MRI-reconstruction/dataset/singlecoil_train_3D_images_48x/low//4.npy']"
      ]
     },
     "execution_count": 5,
     "metadata": {},
     "output_type": "execute_result"
    }
   ],
   "source": [
    "low_full_paths[:4]"
   ]
  },
  {
   "cell_type": "code",
   "execution_count": 6,
   "metadata": {},
   "outputs": [
    {
     "data": {
      "text/plain": [
       "['/home/hasib/MRI-reconstruction/dataset/singlecoil_train_3D_images_48x/high//1.npy',\n",
       " '/home/hasib/MRI-reconstruction/dataset/singlecoil_train_3D_images_48x/high//2.npy',\n",
       " '/home/hasib/MRI-reconstruction/dataset/singlecoil_train_3D_images_48x/high//3.npy',\n",
       " '/home/hasib/MRI-reconstruction/dataset/singlecoil_train_3D_images_48x/high//4.npy']"
      ]
     },
     "execution_count": 6,
     "metadata": {},
     "output_type": "execute_result"
    }
   ],
   "source": [
    "high_full_paths[:4]"
   ]
  },
  {
   "cell_type": "code",
   "execution_count": 7,
   "metadata": {},
   "outputs": [],
   "source": [
    "# Make folder for low and high res\n",
    "\n",
    "LOW_DIR_2D = \"singlecoil_train_2D_images_normalized/low/\"\n",
    "HIGH_DIR_2D = \"singlecoil_train_2D_images_normalized/high/\"\n",
    "\n",
    "H.create_directory(\"{}/{}\".format(TRAIN_DATASET_PATH, LOW_DIR_2D))\n",
    "H.create_directory(\"{}/{}\".format(TRAIN_DATASET_PATH, HIGH_DIR_2D))"
   ]
  },
  {
   "cell_type": "code",
   "execution_count": 8,
   "metadata": {},
   "outputs": [
    {
     "data": {
      "text/plain": [
       "('/home/hasib/MRI-reconstruction/dataset/singlecoil_train_2D_images_normalized/low/',\n",
       " '/home/hasib/MRI-reconstruction/dataset/singlecoil_train_2D_images_normalized/high/')"
      ]
     },
     "execution_count": 8,
     "metadata": {},
     "output_type": "execute_result"
    }
   ],
   "source": [
    "LOW_DIR_2D_PATH = os.path.join(TRAIN_DATASET_PATH, LOW_DIR_2D)\n",
    "HIGH_DIR_2D_PATH = os.path.join(TRAIN_DATASET_PATH, HIGH_DIR_2D)\n",
    "LOW_DIR_2D_PATH, HIGH_DIR_2D_PATH"
   ]
  },
  {
   "cell_type": "markdown",
   "metadata": {},
   "source": [
    "#### Low MRI 3D to 2D image slices\n",
    "\n",
    "(Each slice from the volumetric data is normalized, NOT the whole volumetric data at once.)"
   ]
  },
  {
   "cell_type": "code",
   "execution_count": 9,
   "metadata": {},
   "outputs": [
    {
     "name": "stderr",
     "output_type": "stream",
     "text": [
      "100%|██████████| 8/8 [00:06<00:00,  1.27it/s]"
     ]
    },
    {
     "name": "stdout",
     "output_type": "stream",
     "text": [
      "Total slices: 293\n"
     ]
    },
    {
     "name": "stderr",
     "output_type": "stream",
     "text": [
      "\n"
     ]
    }
   ],
   "source": [
    "c=0\n",
    "total_slices = 0\n",
    "\n",
    "for l in tqdm(low_full_paths[:]):\n",
    "    img_3d = np.load(\"{}\".format(l))\n",
    "    img_3d = np.moveaxis(img_3d, 0, 2)\n",
    "    slices = img_3d.shape[-1]\n",
    "    total_slices+=slices\n",
    "    \n",
    "    # iterate over each slice and save\n",
    "    for i in range(slices):\n",
    "        img = img_3d[:,:,i]\n",
    "        img = H.normalize(img) # Normalize image\n",
    "        cv2.imwrite(\"{}/{}_{}.png\".format(LOW_DIR_2D_PATH, c, i), img * 255)\n",
    "        img = None\n",
    "        \n",
    "    img_3d = None\n",
    "    c+=1\n",
    "    \n",
    "print(\"Total slices: {}\".format(total_slices))"
   ]
  },
  {
   "cell_type": "markdown",
   "metadata": {},
   "source": [
    "#### HIGH MRI VOLUMES"
   ]
  },
  {
   "cell_type": "code",
   "execution_count": 10,
   "metadata": {},
   "outputs": [
    {
     "name": "stderr",
     "output_type": "stream",
     "text": [
      "100%|██████████| 8/8 [00:06<00:00,  1.23it/s]"
     ]
    },
    {
     "name": "stdout",
     "output_type": "stream",
     "text": [
      "Total slices: 293\n"
     ]
    },
    {
     "name": "stderr",
     "output_type": "stream",
     "text": [
      "\n"
     ]
    }
   ],
   "source": [
    "c=0\n",
    "total_slices = 0\n",
    "\n",
    "for l in tqdm(high_full_paths[:]):\n",
    "    img_3d = np.load(\"{}\".format(l))\n",
    "    img_3d = np.moveaxis(img_3d, 0, 2)\n",
    "    slices = img_3d.shape[-1]\n",
    "    total_slices+=slices\n",
    "    \n",
    "    # iterate over each slice and save\n",
    "    for i in range(slices):\n",
    "        img = img_3d[:,:,i]\n",
    "        img = H.normalize(img) # Normalize image\n",
    "        cv2.imwrite(\"{}/{}_{}.png\".format(HIGH_DIR_2D_PATH, c, i), img * 255)\n",
    "        img = None\n",
    "        \n",
    "    img_3d = None\n",
    "    c+=1\n",
    "    \n",
    "print(\"Total slices: {}\".format(total_slices))"
   ]
  },
  {
   "cell_type": "markdown",
   "metadata": {},
   "source": [
    "\n",
    "### Remember to rescale using img/255.0 after loading images\n",
    "\n",
    "`img = cv2.imread(\"test.png\", 0)\n",
    "img = x/255.0 # Rescale to 0-1\n",
    "`\n"
   ]
  },
  {
   "cell_type": "markdown",
   "metadata": {},
   "source": [
    "### Load and check saved image"
   ]
  },
  {
   "cell_type": "code",
   "execution_count": 17,
   "metadata": {},
   "outputs": [
    {
     "data": {
      "text/plain": [
       "(320, 320)"
      ]
     },
     "execution_count": 17,
     "metadata": {},
     "output_type": "execute_result"
    }
   ],
   "source": [
    "img_test = cv2.imread(\"{}/{}\".format(HIGH_DIR_2D_PATH, \"0_23.png\"), 0) / 255.0\n",
    "img_test.shape"
   ]
  },
  {
   "cell_type": "code",
   "execution_count": 18,
   "metadata": {},
   "outputs": [
    {
     "data": {
      "text/plain": [
       "<matplotlib.image.AxesImage at 0x7f78741b74a8>"
      ]
     },
     "execution_count": 18,
     "metadata": {},
     "output_type": "execute_result"
    },
    {
     "data": {
      "image/png": "[encoded data removed]",
      "text/plain": [
       "<Figure size 432x288 with 1 Axes>"
      ]
     },
     "metadata": {
      "needs_background": "light"
     },
     "output_type": "display_data"
    }
   ],
   "source": [
    "plt.imshow(img_test, cmap='gray')"
   ]
  },
  {
   "cell_type": "code",
   "execution_count": 19,
   "metadata": {},
   "outputs": [
    {
     "data": {
      "text/plain": [
       "array([[0.0627451 , 0.05882353, 0.09019608, ..., 0.05490196, 0.0745098 ,\n",
       "        0.05882353],\n",
       "       [0.07843137, 0.0627451 , 0.08627451, ..., 0.06666667, 0.07843137,\n",
       "        0.0627451 ],\n",
       "       [0.08627451, 0.0745098 , 0.09019608, ..., 0.05490196, 0.03529412,\n",
       "        0.08235294],\n",
       "       ...,\n",
       "       [0.04705882, 0.05882353, 0.05490196, ..., 0.05098039, 0.07058824,\n",
       "        0.04313725],\n",
       "       [0.03921569, 0.06666667, 0.0745098 , ..., 0.04705882, 0.02745098,\n",
       "        0.03529412],\n",
       "       [0.04705882, 0.03921569, 0.03921569, ..., 0.04705882, 0.06666667,\n",
       "        0.0627451 ]])"
      ]
     },
     "execution_count": 19,
     "metadata": {},
     "output_type": "execute_result"
    }
   ],
   "source": [
    "img_test"
   ]
  },
  {
   "cell_type": "markdown",
   "metadata": {},
   "source": [
    "### During test time:\n",
    "* load from *.h5 files and convert and save to npy\n",
    "* for each npy file\n",
    "    make folder of npy file name\n",
    "    convert each slice and save in folder\n",
    "* Now we have X number of test volume folders which have all slices\n",
    "* Run 2D model on each folder(npy file) and reconstruct output volume"
   ]
  },
  {
   "cell_type": "code",
   "execution_count": 12,
   "metadata": {},
   "outputs": [
    {
     "name": "stdout",
     "output_type": "stream",
     "text": [
      "Done!\n"
     ]
    }
   ],
   "source": [
    "print(\"Done!\")"
   ]
  },
  {
   "cell_type": "code",
   "execution_count": null,
   "metadata": {},
   "outputs": [],
   "source": []
  }
 ],
 "metadata": {
  "kernelspec": {
   "display_name": "Python 3",
   "language": "python",
   "name": "python3"
  },
  "language_info": {
   "codemirror_mode": {
    "name": "ipython",
    "version": 3
   },
   "file_extension": ".py",
   "mimetype": "text/x-python",
   "name": "python",
   "nbconvert_exporter": "python",
   "pygments_lexer": "ipython3",
   "version": "3.6.8"
  }
 },
 "nbformat": 4,
 "nbformat_minor": 2
}
